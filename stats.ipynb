{
 "cells": [
  {
   "cell_type": "code",
   "execution_count": 3,
   "metadata": {},
   "outputs": [],
   "source": [
    "import json\n",
    "import os\n",
    "import glob"
   ]
  },
  {
   "cell_type": "code",
   "execution_count": 10,
   "metadata": {},
   "outputs": [],
   "source": [
    "all_json_paths = glob.glob(os.path.join(\"Data/dumped_json\", \"*.json\"))\n",
    "json_dict = {}\n",
    "for json_path in all_json_paths:\n",
    "    json_name = os.path.basename(json_path)\n",
    "    with open(json_path, \"r\") as f:\n",
    "        json_dict[json_name] = json.load(f)"
   ]
  },
  {
   "cell_type": "markdown",
   "metadata": {},
   "source": [
    "##### Count Empty files"
   ]
  },
  {
   "cell_type": "code",
   "execution_count": 11,
   "metadata": {},
   "outputs": [
    {
     "data": {
      "text/plain": [
       "{'status': {'ok': False, 'message': 'file empty'}, 'info_picture': ''}"
      ]
     },
     "execution_count": 11,
     "metadata": {},
     "output_type": "execute_result"
    }
   ],
   "source": [
    "json_dict[\"cv_101.json\"]"
   ]
  },
  {
   "cell_type": "code",
   "execution_count": 15,
   "metadata": {},
   "outputs": [
    {
     "name": "stdout",
     "output_type": "stream",
     "text": [
      "2 files are empty\n",
      "['cv_26.json', 'cv_101.json']\n"
     ]
    }
   ],
   "source": [
    "empt_count = 0\n",
    "empt_list = []\n",
    "for key, file in json_dict.items():\n",
    "    if file[\"status\"][\"message\"] == \"file empty\":\n",
    "        empt_count += 1\n",
    "        empt_list.append(key)\n",
    "print(\"{} files are empty\".format(empt_count))\n",
    "print(\"{}\".format(empt_list))"
   ]
  },
  {
   "cell_type": "markdown",
   "metadata": {},
   "source": [
    "#### Get unique exp positions"
   ]
  },
  {
   "cell_type": "code",
   "execution_count": 21,
   "metadata": {},
   "outputs": [
    {
     "name": "stdout",
     "output_type": "stream",
     "text": [
      "{'Nhânviênphụcvụ', 'Nhân viên', 'Marketing Leader', 'Nhân viên bán hàng', 'Thực tập sinh', 'Production Merchandiser – Category: Garment', 'Nhân Viên Kế Toán - Kế toán tiền lương', 'Thực Tập Sinh', 'Supply Chain Finance Manager', 'BỆNHVIỆNBẠCHMAI - SINH VIÊN THỰC TẬP', 'Nhân viên QC', 'Nhân viên kinh doanh', 'Nhân viên kế toán nội bộ', 'Giám Đốc Khối Thị Trường Tài chính', 'Nhân viên lễ tân', 'Nhân viên Kho', 'Nhân Viên Lễ Tân', 'CHUYÊN VIÊN KINH DOANH ỐC ĐẤT XANH MIỀN BẮC', 'Nhân viên tư vấn khách', 'NHÂN VIÊN CHĂM SÓC KHÁCH HÀNG, Nhân viên xuất sắc, TRỢ LÝ QUẢN LÝ NHÂN SỰ', 'Giám sát Kiểm tra', 'Nhân viên tư vấn', 'NHÂN VIÊN KINH DOANH, Giaodịchviên', 'thực tập sinh', 'Operation Manager', 'Purchaser', 'CỬA HÀNG TRƯỞNG', 'CS and Orders', 'Phòng khám đa khoa khu vực phía tây Nhân viên Điều dưỡng', 'Purchasing Staff', 'TẬP ĐOÀN HÀNG KHÔNG', 'Digital account executive, Asc Degree', 'Nhân Viên Bảo Dưỡng-Sửa Chữa', 'Nhân viên phụ bếp', 'Director', 'Kỹ sư thiết kế cơ khí', 'Project Manager', 'Business Analysis Lead Business Analysis team', 'Công nhân lắp ráp ô tô', 'Merchandiser', 'Phòng khám nha khoa Xuân Hồng', 'Kế toán nội bộ, kế toán công trình, kế toán thanh toán và nhân sự', 'Nhân viên phòng Đào Tạo', 'Hướng dẫn viên du lịch nội địa, Nhân Viên Hướng Dẫn', 'HR Executive', 'Học vấn Nhân viên kinh doanh bất động sản', 'CÔNGTYTNHHTHƯƠNGMẠIDƯƠNGGIA - KẾ TOÁN Mô tả', 'Marketing Service Agency IMC Planning Specialist then Manager', 'Manager', 'Nhân viên kỹ thuật', 'NHÂN VIÊN KỸ THUẬT, Nhân viên bán hàng, NHÂN VIÊN BÁN HÀNG', 'Team Leader / Supervisor', 'Nhân viên quản lí chất lượng', 'Nhân Viên Hiện Trường', 'Nhân Viên Kinh Doanh', 'Chuyên viên Trung tâm hỗ trợ sinh viên trường', 'DISTRICT Telesales', 'Member', 'Nhân viên chỉnh sửa ảnh'}\n"
     ]
    }
   ],
   "source": [
    "exp_position_list = []\n",
    "no_exp_position_list = []\n",
    "for key, file in json_dict.items():\n",
    "    if file[\"status\"][\"message\"] == \"file empty\":\n",
    "        continue\n",
    "    try:\n",
    "        exp_position_list.append(file[\"exp_position\"])\n",
    "    except KeyError:\n",
    "       no_exp_position_list\n",
    "uni_exp_position = set(exp_position_list)\n",
    "print(\"{}\".format(uni_exp_position))"
   ]
  },
  {
   "cell_type": "markdown",
   "metadata": {},
   "source": [
    "#### Get unique company nanes"
   ]
  },
  {
   "cell_type": "code",
   "execution_count": 22,
   "metadata": {},
   "outputs": [
    {
     "name": "stdout",
     "output_type": "stream",
     "text": [
      "{'TRUNG TÂM TIẾNG ANH GIAO TIẾP PASCAL', 'IMARKET VIET NAM', 'SCHNELL MEDIA', 'Energy and Environmental Consultancy Joint-stock Company', 'Đất Xanh Miền Bắc', 'Flix Co,. Ltd (a partner of Dentsu Vietnam)', 'Công ty Điện Máy Chợ Lớn Kon Tum', 'CÔNG TY MÔI TRƯỜNG TẦM NHÌN XANH', 'CÔNG TY TNHH TM & DV HAI CHUNG', 'Tập đoàn khoa học kỹ thuật hồng hải', 'WAPA CLUB', 'Muine Bay resort', 'Công ty cổ phần sản xuất và thương mại An Việt', 'CÔNG TY TNHH CỔ PHẦN ASIAN LẠNG SƠN', 'CÔNG TY CP ĐẦU TƯ XD TMDV VIỆT THÀNH', 'CÔNG TY CỔ PHẦN VIỆT TINH ANH', 'VIỆN HOÁ HỌC VẬT LIỆU, VIỆN KHOA HỌC VÀ CÔNG NGHỆ QUÂN SỰ', 'Công ty Cửu Long motors', 'SHOP DECAL DÁN TƯỜNG HÀN QUỐC', 'Golden Gate Restaurant Group', 'Street food Úm Ba La', 'CTY TNHH Y&J VINA', 'khu vui chơi Đầm Sen, Đại Nam', 'DAI-ICHI LIFE INSURANCE OF VIETNAM COMPANY HA NOI', 'Tập đoàn Khách Sạn A25', 'CAO ĐẲNG NGHỀ CẦN THƠ', 'SUNG BU VINA JSC', 'Công Ty Cổ Phần Thuỷ Điện Nậm Lúc', 'Trung tâm hội nghị và triển lãm White Palace', 'Lotte Mart - Ho Chi Minh', 'Công ty FPT Telecom', 'CÔNG TY TNHH FASHION SEVERICE', 'ĐÃ LÀM VIỆC TẠI CÔNG TY SAVILLS', 'NGÔI SAO VIỆT ( CÔNG TY CP HÀNG KHÔNG LƯỠNG DỤNG NGÔI SAO VIỆT, CÔNG TY CP KỸ THUẬT HÀNG KHÔNG NGÔI SAO VIỆT)', 'CÔNG TY TNHH DỊCH VỤ BẢO VỆ SONG LONG AN NINH', 'CÔNG TY TC TNHH MTV NGÂN HÀNG VIỆT NAM THỊNH VƯỢNG VPBANK FINANCE COMPANY LIMITED Tầng 2', 'WOW LAW GROUP (CALIFORNIA, USA)', 'BUFFET KUSHIN BBQ CẦN THƠ', 'CÔNG TY TNHH TIẾP VẬN HOẢ TIỄN', 'Công ty Viễn thông Viettel (Viettel Telecom)', 'Icheck Scaner', 'BẾN THÀNH TOURIST JOINT STOCK COMPANY', 'TRONG CÔNG VIỆC CÔNGTYCPGIẢITRÍKIMPHƯƠNG (HỒGƯƠMAUDIO-STUDIO)', 'Indo Trans Keppel Logistics Vietnam (North)', 'CÔNG TY TNHH IWATANI', 'Nhà hàng ốc Huyền Sài Gòn Thu ngân, Công ty CP sữa cô gái Hà Lan', 'BCD Meetings & Events Vietnam Creative and Production - Head', 'Công ty úc đại lợi-pil', 'BQL Đầu Tư Xây Dựng Huyện Thuận Nam - Ninh Thuận', 'Công ty Cổ Phần Samchem Quả Cầu', 'Cty TNHH Phúc Long Giang', 'Delta Starmark Garment (Viet Nam) Co.,Ltd', 'Immigra�on Execu�ve Freelance', 'KINH NGHIỆM LÀM VIỆC TT GDNN - GDTX TP Lào Cai', 'TRUNG TÂM THƯƠNG MẠI VINCOM GIÁM ĐỐC BAN QUẢN LÝ TTTM PLAZA MÓNG CÁI, QUẢNG NINH', 'Rooms Accor Hotels', 'Công Ty TNHH Quốc tế Kim Bảo Sơn (KCN Giang Điền)', 'Samsung Electronics Vietnam', 'CÔNG TY CỔ PHẦN PHÁT TRIỂN KINH DOANH THỊNH PHÁT - VPBANK', 'WOOJIN GLOBAL LOGISTIC', 'Ngân Hàng TMCP VIETNAM THƯƠNG TÍN - VIETBANK-HSC', 'TRUNG TÂM VUI CHƠI TRẺ EM TINIWORLD', 'bệnh viện Tân Sơn Nhất, ĐIỀU DƯỠNG NHA KHOA', 'Wonderkids Kindergarten Industry'}\n"
     ]
    }
   ],
   "source": [
    "company_name_list = []\n",
    "no_company_name_list = []\n",
    "for key, file in json_dict.items():\n",
    "    if file[\"status\"][\"message\"] == \"file empty\":\n",
    "        continue\n",
    "    try:\n",
    "        company_name_list.append(file[\"exp_company_name\"])\n",
    "    except KeyError:\n",
    "       no_company_name_list\n",
    "uni_company_name = set(company_name_list)\n",
    "print(\"{}\".format(uni_company_name))"
   ]
  },
  {
   "cell_type": "code",
   "execution_count": 24,
   "metadata": {},
   "outputs": [
    {
     "data": {
      "text/plain": [
       "{'info_picture': '',\n",
       " 'status': {'ok': True, 'message': ''},\n",
       " 'info_name': 'Thao Cao',\n",
       " 'info_birthdate': '',\n",
       " 'info_gender': '',\n",
       " 'info_email': 'susubonbon12@gmail.com',\n",
       " 'info_phone': '',\n",
       " 'info_location_1': '',\n",
       " 'info_location_2': '',\n",
       " 'exp_position': 'Supply Chain Finance Manager',\n",
       " 'confident': 0.7546092270536846,\n",
       " 'exp_description': '• Analyze, evaluate and prepare commentary on product performance against monthly forecast. \\n• Provide financial advice and support to 3rd party management team to ensure that business goals are set, communicated and delivered \\n• Support and evaluate Business Case. Identify trends and underlying business issues. \\n• Support strategy definition and implementation, developing and evaluating longer term strategies, forecasts and investment plans. \\n• Lead stock\\n-count nationwide with high quality and ensure not much impact to sales operation. \\n• Manage the process of product costing, transfer price calculation, governance & control of capital investments. \\n• Lead Supply Chain cost Forecasting with high quality output \\n• Drive and support to manage business waste. \\n• Analyze GMVA monthly/quarterly for SCC driven. \\n• Support internal & external audit',\n",
       " 'experience': [{'exp_position': 'Supply Chain Finance Manager',\n",
       "   'confident': 0.9280618131160736,\n",
       "   'exp_description': '• Analyze, evaluate and prepare commentary on product performance against monthly forecast. \\n• Provide financial advice and support to 3rd party management team to ensure that business goals are set, communicated and delivered \\n• Support and evaluate Business Case. Identify trends and underlying business issues. \\n• Support strategy definition and implementation, developing and evaluating longer term strategies, forecasts and investment plans. \\n• Lead stock\\n-count nationwide with high quality and ensure not much impact to sales operation. \\n• Manage the process of product costing, transfer price calculation, governance & control of capital investments. \\n• Lead Supply Chain cost Forecasting with high quality output \\n• Drive and support to manage business waste. \\n• Analyze GMVA monthly/quarterly for SCC driven. \\n• Support internal & external audit'},\n",
       "  {'exp_position': 'Account Payable Manager',\n",
       "   'confident': 0.8159855604171753,\n",
       "   'exp_description': '• Lead GTES project (Global Traveling Employee System) \\n• Develop AP procedures and policy to ensure adherence to company guidelines. \\n• Manage monthly closing of financial records and posting of month end information to ensure accuracy of financial statements. \\n• Negotiate with vendors & service providers. \\n• Manage payment with right process and follow SoA. \\n• Complete some tax reports as VAT, EIT...'}],\n",
       " 'exp_confident': 'high',\n",
       " 'edu_school_univ': 'HCM city Economic University',\n",
       " 'edu_major': \"Bachelor's degree, Accounting and Finance\",\n",
       " 'education': [{'edu_school_univ': 'HCM city Economic University',\n",
       "   'edu_major': \"Bachelor's degree, Accounting and Finance\",\n",
       "   'confident': 0.9247825741767883}],\n",
       " 'others_profile': 'susubonbon12@gmail.com\\nwww.linkedin.com/in/thao- cao-815330145 (LinkedIn)\\nThao Cao\\nOpen for new position\\nVietnam',\n",
       " 'others_summary': 'I’ve a great timing in Unilever where I got valuable knowledge as well as leant strong leadership from my bosses. I got special award for back up for AP assistant manager in 6 months when I was an AP officer. The award record for my management skill and ensure AP operation smoothly. Another team reward which I played team leader for project merging 2 sub-entities in Unilever. After a long journey with Unilever, I’d like to explore myself outside so I joined Marico.\\nEven for more than one year in Marico for Commercial manager role, together with Supply chain team, we’ve done to review and implement some poilcies as sourcing policy, out-sourcing policy, manufacturing policy….to help and ensure compliance for Supply Chain.\\nI’d love to work with Supply Chain as I found that it’s my 2nd family or Finance manager as financial accounting also my favorite.',\n",
       " 'others_skills': 'Management Microsoft Excel Forecasting',\n",
       " 'others_education': \"HCM city Economic University\\nBachelor's degree,\\xa0Accounting and Finance\\xa0·\\xa0(1995\\xa0-\\xa01999)\",\n",
       " 'info_normalized_birthdate': ''}"
      ]
     },
     "execution_count": 24,
     "metadata": {},
     "output_type": "execute_result"
    }
   ],
   "source": [
    "json_dict[\"cv_1.json\"]"
   ]
  },
  {
   "cell_type": "code",
   "execution_count": null,
   "metadata": {},
   "outputs": [],
   "source": []
  }
 ],
 "metadata": {
  "interpreter": {
   "hash": "aa3dd84ef0f650d9d8b867844db5a915f08cb58b5d6dab20fc53865ee0283ae4"
  },
  "kernelspec": {
   "display_name": "Python 3.9.12 ('py39')",
   "language": "python",
   "name": "python3"
  },
  "language_info": {
   "codemirror_mode": {
    "name": "ipython",
    "version": 3
   },
   "file_extension": ".py",
   "mimetype": "text/x-python",
   "name": "python",
   "nbconvert_exporter": "python",
   "pygments_lexer": "ipython3",
   "version": "3.9.12"
  },
  "orig_nbformat": 4
 },
 "nbformat": 4,
 "nbformat_minor": 2
}
